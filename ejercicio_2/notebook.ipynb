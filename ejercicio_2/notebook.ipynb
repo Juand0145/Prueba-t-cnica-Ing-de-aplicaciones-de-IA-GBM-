{
 "cells": [
  {
   "cell_type": "code",
   "execution_count": 70,
   "metadata": {},
   "outputs": [
    {
     "data": {
      "text/plain": [
       "['3', '3', '1 2 3']"
      ]
     },
     "execution_count": 70,
     "metadata": {},
     "output_type": "execute_result"
    }
   ],
   "source": [
    "prix_pilots = [1,3]\n",
    "placements = [[3, 2, 1]]\n",
    "n_systems = 3\n",
    "scoring_systems = [[3,5,3,2], [3,5,3,1], [3,1,1,1]]\n",
    "\n",
    "\n",
    "champions = []\n",
    "for scoring_system in scoring_systems:\n",
    "    # Initialize a dictionary to store points for each pilot\n",
    "    pilot_points = {pilot: 0 for pilot in range(1, prix_pilots[1] + 1)}\n",
    "    K = scoring_system[0]\n",
    "    points = scoring_system[1:]\n",
    "\n",
    "    # Calculate points for each pilot in each race\n",
    "    for placement in placements:\n",
    "      for i, pilot in enumerate(placement):\n",
    "        if i < K:  # Award points only if the pilot finished within the scoring positions\n",
    "          pilot_points[pilot] += points[i]\n",
    "\n",
    "    # Find pilots with the highest points\n",
    "    max_points = max(pilot_points.values())\n",
    "    champions_for_system = [pilot for pilot, points in pilot_points.items() if points == max_points]\n",
    "\n",
    "    # Format output string for champions\n",
    "    champions_string = \" \".join(map(str, champions_for_system))\n",
    "    champions.append(champions_string)\n",
    "\n",
    "champions"
   ]
  },
  {
   "cell_type": "code",
   "execution_count": 5,
   "metadata": {},
   "outputs": [
    {
     "name": "stdout",
     "output_type": "stream",
     "text": [
      "{1: 12, 2: 9, 3: 6, 4: 3, 5: 1, 6: 0, 7: 0, 8: 0, 9: 5, 10: 9}\n",
      "{1: 16, 2: 6, 3: 1, 4: 0, 5: 0, 6: 0, 7: 0, 8: 0, 9: 10, 10: 15}\n"
     ]
    },
    {
     "data": {
      "text/plain": [
       "['1', '1']"
      ]
     },
     "execution_count": 5,
     "metadata": {},
     "output_type": "execute_result"
    }
   ],
   "source": [
    "prix_pilots = [3, 10]\n",
    "placements = [[1,2,3,4,5,6,7,8,9,10],\n",
    "              [10,1,2,3,4,5,6,7,8,9],\n",
    "              [9,10,1,2,3,4,5,6,7,8]]\n",
    "n_systems = 2\n",
    "scoring_systems = [[5,5,4,3,2,1], [3,10,5,1]]\n",
    "\n",
    "champions = []\n",
    "for scoring_system in scoring_systems:\n",
    "    # Initialize a dictionary to store points for each pilot\n",
    "    pilot_points = {pilot: 0 for pilot in range(1, prix_pilots[1] + 1)}\n",
    "    K = scoring_system[0]\n",
    "    points = scoring_system[1:]\n",
    "\n",
    "    # Calculate points for each pilot in each race\n",
    "    for placement in placements:\n",
    "      for i, pilot in enumerate(placement):\n",
    "        if i < K:  # Award points only if the pilot finished within the scoring positions\n",
    "          pilot_points[pilot] += points[i]\n",
    "\n",
    "    print(pilot_points)\n",
    "    # Find pilots with the highest points\n",
    "    max_points = max(pilot_points.values())\n",
    "    champions_for_system = [pilot for pilot, points in pilot_points.items() if points == max_points]\n",
    "\n",
    "    # Format output string for champions\n",
    "    champions_string = \" \".join(map(str, champions_for_system))\n",
    "    champions.append(champions_string)\n",
    "    \n",
    "champions\n"
   ]
  }
 ],
 "metadata": {
  "kernelspec": {
   "display_name": "Python 3",
   "language": "python",
   "name": "python3"
  },
  "language_info": {
   "codemirror_mode": {
    "name": "ipython",
    "version": 3
   },
   "file_extension": ".py",
   "mimetype": "text/x-python",
   "name": "python",
   "nbconvert_exporter": "python",
   "pygments_lexer": "ipython3",
   "version": "3.11.9"
  }
 },
 "nbformat": 4,
 "nbformat_minor": 2
}
